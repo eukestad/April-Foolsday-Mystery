{
 "cells": [
  {
   "cell_type": "code",
   "execution_count": 27,
   "metadata": {},
   "outputs": [
    {
     "data": {
      "image/png": "[encoded data removed]",
      "text/plain": [
       "<Figure size 432x288 with 1 Axes>"
      ]
     },
     "metadata": {
      "needs_background": "light"
     },
     "output_type": "display_data"
    }
   ],
   "source": [
    "import pandas as pd\n",
    "from sqlalchemy import create_engine\n",
    "from sqlalchemy import text\n",
    "from config import credential\n",
    "\n",
    "engine = create_engine(f'postgresql://{credential}@localhost:5432/Employees')\n",
    "cxcn = engine.connect()\n",
    "result = cxcn.execute(text(\"select emp_no, salary from salaries\"))     \n",
    "    \n",
    "salaries = pd.DataFrame(result, columns=['emp_no','salary'])\n",
    "\n",
    "# salaries['salary_$'] = salaries['salary'].apply(format(\"${:.2f}\"))\n",
    "\n",
    "salaries.describe()\n",
    "\n",
    "hist = salaries.salary.hist(bins=3)"
   ]
  },
  {
   "cell_type": "code",
   "execution_count": null,
   "metadata": {},
   "outputs": [],
   "source": []
  }
 ],
 "metadata": {
  "kernelspec": {
   "display_name": "Python [conda env:PythonData] *",
   "language": "python",
   "name": "conda-env-PythonData-py"
  },
  "language_info": {
   "codemirror_mode": {
    "name": "ipython",
    "version": 3
   },
   "file_extension": ".py",
   "mimetype": "text/x-python",
   "name": "python",
   "nbconvert_exporter": "python",
   "pygments_lexer": "ipython3",
   "version": "3.6.10"
  }
 },
 "nbformat": 4,
 "nbformat_minor": 4
}
